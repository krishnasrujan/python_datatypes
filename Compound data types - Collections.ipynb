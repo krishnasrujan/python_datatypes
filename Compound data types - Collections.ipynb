{
 "cells": [
  {
   "cell_type": "markdown",
   "metadata": {},
   "source": [
    "## Lists\n",
    "\n",
    "1. A list is a collection which is ordered and changeable\n",
    "2. Lists are written with square brackets\n"
   ]
  },
  {
   "cell_type": "code",
   "execution_count": 1,
   "metadata": {},
   "outputs": [
    {
     "name": "stdout",
     "output_type": "stream",
     "text": [
      "['a', 'b', 'c']\n",
      "<class 'list'>\n",
      "3\n"
     ]
    }
   ],
   "source": [
    "# simple list of characters\n",
    "lst=['a','b','c']\n",
    "print(lst)\n",
    "print(type(lst))\n",
    "print(len(lst))"
   ]
  },
  {
   "cell_type": "code",
   "execution_count": 2,
   "metadata": {},
   "outputs": [
    {
     "name": "stdout",
     "output_type": "stream",
     "text": [
      "[1, 2, 3]\n",
      "<class 'list'>\n",
      "3\n"
     ]
    }
   ],
   "source": [
    "# simple list of numbers\n",
    "lst=[1,2,3]\n",
    "print(lst)\n",
    "print(type(lst))\n",
    "print(len(lst))"
   ]
  },
  {
   "cell_type": "code",
   "execution_count": 3,
   "metadata": {},
   "outputs": [
    {
     "name": "stdout",
     "output_type": "stream",
     "text": [
      "[1, 2, 'a', 3]\n",
      "<class 'list'>\n",
      "4\n"
     ]
    }
   ],
   "source": [
    "# list of both numbers and characters\n",
    "lst=[1,2,'a',3]\n",
    "print(lst)\n",
    "print(type(lst))\n",
    "print(len(lst))"
   ]
  },
  {
   "cell_type": "code",
   "execution_count": 4,
   "metadata": {},
   "outputs": [
    {
     "name": "stdout",
     "output_type": "stream",
     "text": [
      "1\n",
      "2\n",
      "a\n"
     ]
    }
   ],
   "source": [
    "# access elements\n",
    "print(lst[0])\n",
    "print(lst[1])\n",
    "print(lst[2])"
   ]
  },
  {
   "cell_type": "code",
   "execution_count": 5,
   "metadata": {},
   "outputs": [
    {
     "name": "stdout",
     "output_type": "stream",
     "text": [
      "['a', 'b', 'c', 100, ['d', 'e']]\n",
      "<class 'list'>\n",
      "5\n"
     ]
    }
   ],
   "source": [
    "# list of both numbers and characters and another list\n",
    "lst=['a','b','c',100,['d','e']]\n",
    "print(lst)\n",
    "print(type(lst))\n",
    "print(len(lst))"
   ]
  },
  {
   "cell_type": "code",
   "execution_count": 6,
   "metadata": {},
   "outputs": [
    {
     "name": "stdout",
     "output_type": "stream",
     "text": [
      "a\n",
      "b\n",
      "c\n",
      "100\n",
      "['d', 'e']\n"
     ]
    }
   ],
   "source": [
    "print(lst[0])\n",
    "print(lst[1])\n",
    "print(lst[2])\n",
    "print(lst[3])\n",
    "print(lst[4])"
   ]
  },
  {
   "cell_type": "code",
   "execution_count": 7,
   "metadata": {},
   "outputs": [
    {
     "name": "stdout",
     "output_type": "stream",
     "text": [
      "d\n",
      "e\n"
     ]
    }
   ],
   "source": [
    "# accessing elements from child lists\n",
    "print(lst[4][0])\n",
    "print(lst[4][1])\n",
    "#print(lst[4][2])"
   ]
  },
  {
   "cell_type": "code",
   "execution_count": 8,
   "metadata": {},
   "outputs": [
    {
     "name": "stdout",
     "output_type": "stream",
     "text": [
      "['a', 'b', 'c', 100, ['d', 'e']]\n",
      "100\n",
      "['d', 'e']\n",
      "d\n",
      "d\n"
     ]
    }
   ],
   "source": [
    "# using negative indexing\n",
    "print(lst)\n",
    "print(lst[-2])\n",
    "print(lst[-1])\n",
    "print(lst[-1][0])\n",
    "print(lst[-1][-2])"
   ]
  },
  {
   "cell_type": "code",
   "execution_count": 9,
   "metadata": {},
   "outputs": [
    {
     "name": "stdout",
     "output_type": "stream",
     "text": [
      "['a', 'b', 'c', 100, ['d', 'e']]\n",
      "['c', 100]\n"
     ]
    }
   ],
   "source": [
    "# What does lst[-3:-1] print?\n",
    "print(lst)\n",
    "print(lst[-3:-1])"
   ]
  },
  {
   "cell_type": "code",
   "execution_count": 10,
   "metadata": {},
   "outputs": [
    {
     "name": "stdout",
     "output_type": "stream",
     "text": [
      "['a', 'z', 'c', 100, ['d', 'e']]\n"
     ]
    }
   ],
   "source": [
    "#changing an item\n",
    "lst[1]='z'\n",
    "print(lst)\n"
   ]
  },
  {
   "cell_type": "code",
   "execution_count": 11,
   "metadata": {},
   "outputs": [
    {
     "name": "stdout",
     "output_type": "stream",
     "text": [
      "a\n",
      "z\n",
      "c\n",
      "100\n",
      "['d', 'e']\n"
     ]
    }
   ],
   "source": [
    "# looping through a list\n",
    "for x in lst:\n",
    "    print(x)"
   ]
  },
  {
   "cell_type": "code",
   "execution_count": 12,
   "metadata": {},
   "outputs": [
    {
     "name": "stdout",
     "output_type": "stream",
     "text": [
      "a\n",
      "z\n",
      "c\n",
      "100\n",
      "['d', 'e']\n"
     ]
    },
    {
     "data": {
      "text/plain": [
       "[None, None, None, None, None]"
      ]
     },
     "execution_count": 12,
     "metadata": {},
     "output_type": "execute_result"
    }
   ],
   "source": [
    "# one liner for\n",
    "[print(x) for x in lst]"
   ]
  },
  {
   "cell_type": "code",
   "execution_count": 13,
   "metadata": {},
   "outputs": [
    {
     "data": {
      "text/plain": [
       "['a', 'z', 'c', 100, ['d', 'e'], '“y”']"
      ]
     },
     "execution_count": 13,
     "metadata": {},
     "output_type": "execute_result"
    }
   ],
   "source": [
    "#adding an item. Adds at the end\n",
    "lst.append('“y”')\n",
    "lst"
   ]
  },
  {
   "cell_type": "code",
   "execution_count": 14,
   "metadata": {},
   "outputs": [
    {
     "name": "stdout",
     "output_type": "stream",
     "text": [
      "['yo ho ho', 'a', 'z', 'c', 100, ['d', 'e'], '“y”']\n"
     ]
    }
   ],
   "source": [
    "#add an item at a specific location\n",
    "lst.insert(0,\"yo ho ho\")\n",
    "print(lst)\n"
   ]
  },
  {
   "cell_type": "code",
   "execution_count": 15,
   "metadata": {},
   "outputs": [
    {
     "name": "stdout",
     "output_type": "stream",
     "text": [
      "['yo ho ho', 'a', 'z', 'c', 100, ['d', 'e']]\n"
     ]
    }
   ],
   "source": [
    "#remove an item from list\n",
    "lst.remove('“y”')\n",
    "print(lst)\n"
   ]
  },
  {
   "cell_type": "code",
   "execution_count": 16,
   "metadata": {},
   "outputs": [
    {
     "name": "stdout",
     "output_type": "stream",
     "text": [
      "True\n",
      "False\n"
     ]
    }
   ],
   "source": [
    "#checking for existence\n",
    "print('z' in lst)\n",
    "#prints True\n",
    "\n",
    "print('d' in lst)\n",
    "#prints False\n",
    "# why did this one print False when d exists in the listg\n"
   ]
  },
  {
   "cell_type": "code",
   "execution_count": 17,
   "metadata": {},
   "outputs": [
    {
     "name": "stdout",
     "output_type": "stream",
     "text": [
      "['yo ho ho', 'a', 'z', 'c', 100, ['d', 'e']]\n",
      "6\n",
      "2\n"
     ]
    }
   ],
   "source": [
    "#length of a list\n",
    "print(lst)\n",
    "print(len(lst))\n",
    "\n",
    "#length of a component in a list\n",
    "print(len(lst[5]))\n"
   ]
  },
  {
   "cell_type": "code",
   "execution_count": 18,
   "metadata": {},
   "outputs": [
    {
     "name": "stdout",
     "output_type": "stream",
     "text": [
      "['yo ho ho', 'a', 'z', 'c', 100, ['d', 'e']]\n",
      "yo ho ho : 8\n",
      "a : 1\n",
      "z : 1\n",
      "c : 1\n",
      "incompatible\n",
      "['d', 'e'] : 2\n"
     ]
    }
   ],
   "source": [
    "print(lst)\n",
    "for x in lst:\n",
    "    try:\n",
    "        print(x,\":\",len(x))\n",
    "    except:\n",
    "        print(\"incompatible\")"
   ]
  },
  {
   "cell_type": "code",
   "execution_count": 19,
   "metadata": {},
   "outputs": [
    {
     "name": "stdout",
     "output_type": "stream",
     "text": [
      "['yo ho ho', 'a', 'z', 'c', 100, ['d', 'e']]\n",
      "['a', 'z', 'c', 100, ['d', 'e']]\n"
     ]
    }
   ],
   "source": [
    "#copy a list\n",
    "l2=lst\n",
    "print(l2)\t#prints\t['yo ho ho','a','b', 'c', 100, ['d', 'e']]\t\n",
    "lst.remove('yo ho ho')\n",
    "print(l2)\n",
    "#prints\t['a','b', 'c', 100, ['d', 'e']]"
   ]
  },
  {
   "cell_type": "code",
   "execution_count": 20,
   "metadata": {},
   "outputs": [
    {
     "name": "stdout",
     "output_type": "stream",
     "text": [
      "['a', 'z', 'c', 100, ['d', 'e']]\n",
      "['a', 'z', 'c', 100, ['d', 'e']]\n"
     ]
    }
   ],
   "source": [
    "l2=lst.copy()\n",
    "print(l2)\t#prints\t['a','b', 'c', 100, ['d', 'e']]\n",
    "lst.remove(100)\n",
    "print(l2)\t#prints\t['a','b', 'c', 100, ['d', 'e']]"
   ]
  },
  {
   "cell_type": "code",
   "execution_count": 21,
   "metadata": {},
   "outputs": [
    {
     "name": "stdout",
     "output_type": "stream",
     "text": [
      "['a', 'z', 'c', ['d', 'e'], 'd', 'e', 'f']\n"
     ]
    }
   ],
   "source": [
    "#add two lists\n",
    "lst2=['d','e','f']\n",
    "print(lst + lst2)\n",
    "#prints\t['a', 'b', 'c', ['d', 'e'], 'd', 'e', 'f']"
   ]
  },
  {
   "cell_type": "code",
   "execution_count": 22,
   "metadata": {},
   "outputs": [],
   "source": [
    "lst.append(lst2)"
   ]
  },
  {
   "cell_type": "code",
   "execution_count": 23,
   "metadata": {},
   "outputs": [
    {
     "data": {
      "text/plain": [
       "['a', 'z', 'c', ['d', 'e'], ['d', 'e', 'f']]"
      ]
     },
     "execution_count": 23,
     "metadata": {},
     "output_type": "execute_result"
    }
   ],
   "source": [
    "lst"
   ]
  },
  {
   "cell_type": "code",
   "execution_count": 24,
   "metadata": {},
   "outputs": [
    {
     "name": "stdout",
     "output_type": "stream",
     "text": [
      "['d', 'e', 'f']\n"
     ]
    }
   ],
   "source": [
    "#sort and reverse\n",
    "lst2.sort\n",
    "print(lst2)\n",
    "#prints\t[‘d’,’e’,’f’]\n",
    "\n"
   ]
  },
  {
   "cell_type": "code",
   "execution_count": 25,
   "metadata": {},
   "outputs": [],
   "source": [
    "\n",
    "#print(lst2)\n",
    "#prints\t[’f’,’e’,’d’]"
   ]
  },
  {
   "cell_type": "code",
   "execution_count": 26,
   "metadata": {},
   "outputs": [
    {
     "name": "stdout",
     "output_type": "stream",
     "text": [
      "(1, 1, 1)\n"
     ]
    }
   ],
   "source": [
    "#Mapping\n",
    "#Map function is applied over an iterable (list, tuple, set) and applies the given function to each iterable and returns a list\n",
    "\n",
    "print(tuple(map(len, lst2)))\n",
    "#print(map(len, lst2))\n",
    "#prints\t[1,1,1]"
   ]
  },
  {
   "cell_type": "code",
   "execution_count": 27,
   "metadata": {},
   "outputs": [
    {
     "name": "stdout",
     "output_type": "stream",
     "text": [
      "0\n"
     ]
    }
   ],
   "source": [
    "## index\n",
    "lst=[100,200,300]\n",
    "print(lst.index(100))\n",
    "#print(lst.index(1400))"
   ]
  },
  {
   "cell_type": "code",
   "execution_count": 28,
   "metadata": {},
   "outputs": [
    {
     "name": "stdout",
     "output_type": "stream",
     "text": [
      "True\n",
      "False\n",
      "False\n"
     ]
    }
   ],
   "source": [
    "## isinstance\n",
    "\n",
    "print(isinstance(lst, list))\n",
    "print(isinstance(lst, tuple))\n",
    "print(isinstance(lst, int))"
   ]
  },
  {
   "cell_type": "markdown",
   "metadata": {},
   "source": [
    "# tuples\n",
    "\n",
    "1. A tuple is a collection which is ordered and unchangeable.\n",
    "2. Defined inside round brackets."
   ]
  },
  {
   "cell_type": "code",
   "execution_count": 29,
   "metadata": {},
   "outputs": [
    {
     "name": "stdout",
     "output_type": "stream",
     "text": [
      "('apple', 'banana', 'cherry', 100)\n"
     ]
    },
    {
     "data": {
      "text/plain": [
       "tuple"
      ]
     },
     "execution_count": 29,
     "metadata": {},
     "output_type": "execute_result"
    }
   ],
   "source": [
    "tpl = (\"apple\", \"banana\", \"cherry\", 100)\n",
    "print(tpl)\n",
    "type(tpl)\n"
   ]
  },
  {
   "cell_type": "code",
   "execution_count": 30,
   "metadata": {},
   "outputs": [
    {
     "name": "stdout",
     "output_type": "stream",
     "text": [
      "apple\n",
      "cherry\n",
      "100\n"
     ]
    }
   ],
   "source": [
    "# accesssing elements\n",
    "print(tpl[0])\n",
    "print(tpl[2])\n",
    "print(tpl[-1])"
   ]
  },
  {
   "cell_type": "code",
   "execution_count": 31,
   "metadata": {},
   "outputs": [
    {
     "data": {
      "text/plain": [
       "2"
      ]
     },
     "execution_count": 31,
     "metadata": {},
     "output_type": "execute_result"
    }
   ],
   "source": [
    "## Tuple immutability\n",
    "t1=(2,3,4)\n",
    "t2=(4,6,7)\n",
    "t1[0]"
   ]
  },
  {
   "cell_type": "code",
   "execution_count": 35,
   "metadata": {},
   "outputs": [
    {
     "ename": "TypeError",
     "evalue": "'tuple' object does not support item assignment",
     "output_type": "error",
     "traceback": [
      "\u001b[0;31m---------------------------------------------------------------------------\u001b[0m",
      "\u001b[0;31mTypeError\u001b[0m                                 Traceback (most recent call last)",
      "\u001b[0;32m<ipython-input-35-7cb4489bea4f>\u001b[0m in \u001b[0;36m<module>\u001b[0;34m\u001b[0m\n\u001b[0;32m----> 1\u001b[0;31m \u001b[0mt1\u001b[0m\u001b[0;34m[\u001b[0m\u001b[0;36m0\u001b[0m\u001b[0;34m]\u001b[0m\u001b[0;34m=\u001b[0m\u001b[0;36m100\u001b[0m\u001b[0;34m\u001b[0m\u001b[0;34m\u001b[0m\u001b[0m\n\u001b[0m",
      "\u001b[0;31mTypeError\u001b[0m: 'tuple' object does not support item assignment"
     ]
    }
   ],
   "source": [
    "t1[0]=100"
   ]
  },
  {
   "cell_type": "code",
   "execution_count": 37,
   "metadata": {},
   "outputs": [
    {
     "data": {
      "text/plain": [
       "(2, 3, 4, 4, 6, 7)"
      ]
     },
     "execution_count": 37,
     "metadata": {},
     "output_type": "execute_result"
    }
   ],
   "source": [
    "## adding tuples\n",
    "t3=t1+t2\n",
    "t3"
   ]
  },
  {
   "cell_type": "code",
   "execution_count": 38,
   "metadata": {},
   "outputs": [
    {
     "data": {
      "text/plain": [
       "tuple"
      ]
     },
     "execution_count": 38,
     "metadata": {},
     "output_type": "execute_result"
    }
   ],
   "source": [
    "# creating an empty tuple\n",
    "t4=()\n",
    "type(t4)"
   ]
  },
  {
   "cell_type": "code",
   "execution_count": 39,
   "metadata": {},
   "outputs": [
    {
     "name": "stdout",
     "output_type": "stream",
     "text": [
      "<class 'str'>\n"
     ]
    }
   ],
   "source": [
    "# creating tuple with one value only\n",
    "tpl=('2')\n",
    "print(type(tpl))"
   ]
  },
  {
   "cell_type": "code",
   "execution_count": 40,
   "metadata": {},
   "outputs": [
    {
     "data": {
      "text/plain": [
       "tuple"
      ]
     },
     "execution_count": 40,
     "metadata": {},
     "output_type": "execute_result"
    }
   ],
   "source": [
    "tpl=(2,)\n",
    "type(tpl)\n",
    "\n"
   ]
  },
  {
   "cell_type": "code",
   "execution_count": 41,
   "metadata": {},
   "outputs": [
    {
     "data": {
      "text/plain": [
       "7"
      ]
     },
     "execution_count": 41,
     "metadata": {},
     "output_type": "execute_result"
    }
   ],
   "source": [
    "max(t3)"
   ]
  },
  {
   "cell_type": "code",
   "execution_count": 42,
   "metadata": {},
   "outputs": [
    {
     "data": {
      "text/plain": [
       "2"
      ]
     },
     "execution_count": 42,
     "metadata": {},
     "output_type": "execute_result"
    }
   ],
   "source": [
    "min(t3)"
   ]
  },
  {
   "cell_type": "code",
   "execution_count": 44,
   "metadata": {},
   "outputs": [
    {
     "data": {
      "text/plain": [
       "'apple'"
      ]
     },
     "execution_count": 44,
     "metadata": {},
     "output_type": "execute_result"
    }
   ],
   "source": [
    "tpl = (\"apple\", \"banana\", \"cherry\")\n",
    "min(tpl)"
   ]
  },
  {
   "cell_type": "code",
   "execution_count": 45,
   "metadata": {},
   "outputs": [
    {
     "name": "stdout",
     "output_type": "stream",
     "text": [
      "('d', 'e', 'f')\n"
     ]
    }
   ],
   "source": [
    "# convert a list into a tuple\n",
    "tpl_lst=tuple(lst2)\n",
    "print(tpl_lst)"
   ]
  },
  {
   "cell_type": "code",
   "execution_count": 46,
   "metadata": {},
   "outputs": [
    {
     "name": "stdout",
     "output_type": "stream",
     "text": [
      "(100, 200, 'aa', [200, 100])\n"
     ]
    }
   ],
   "source": [
    "# tuple with lists\n",
    "tpl=(100,200,'aa',[200,100])\n",
    "print(tpl)"
   ]
  },
  {
   "cell_type": "code",
   "execution_count": 47,
   "metadata": {},
   "outputs": [
    {
     "name": "stdout",
     "output_type": "stream",
     "text": [
      "200\n",
      "[200, 100]\n"
     ]
    }
   ],
   "source": [
    "print(tpl[1])\n",
    "print(tpl[3]) # what is needed to access individual list elements inside a tuple"
   ]
  },
  {
   "cell_type": "markdown",
   "metadata": {},
   "source": [
    "## dictionaries\n",
    "\n",
    "1. A dictionary is a collection which is unordered, changeable and indexed\n",
    "2. Comprises of a pair of keys and corresponding values. Duplicates not allowed\n",
    "3. Can contain multiple data types"
   ]
  },
  {
   "cell_type": "code",
   "execution_count": 48,
   "metadata": {},
   "outputs": [
    {
     "name": "stdout",
     "output_type": "stream",
     "text": [
      "{'game': 'cricket', 'teams': 2, 'players': 11}\n"
     ]
    }
   ],
   "source": [
    "cdict =\t{\n",
    "  \"game\": \"cricket\",\n",
    "  \"teams\": 2,\n",
    "  \"players\": 11\n",
    "}\n",
    "print(cdict)\n",
    "#prints:\t{'game': 'cricket', 'teams': 2, 'players': 11"
   ]
  },
  {
   "cell_type": "code",
   "execution_count": 49,
   "metadata": {},
   "outputs": [
    {
     "name": "stdout",
     "output_type": "stream",
     "text": [
      "{'teams': 2, 'game': 'basketball', 'players': 5}\n"
     ]
    }
   ],
   "source": [
    "bdict ={\n",
    "    \"teams\": 2,\n",
    "  \"game\": \"basketball\",\n",
    "  \"players\": 5\n",
    "}\n",
    "print(bdict)\n"
   ]
  },
  {
   "cell_type": "code",
   "execution_count": 50,
   "metadata": {},
   "outputs": [
    {
     "name": "stdout",
     "output_type": "stream",
     "text": [
      "{'teams': 10, 'game': 4, 'players': 40}\n"
     ]
    }
   ],
   "source": [
    "bdict ={\n",
    "    \"teams\": 10,\n",
    "  \"game\": 4,\n",
    "  \"players\": 40\n",
    "}\n",
    "print(bdict)\n"
   ]
  },
  {
   "cell_type": "code",
   "execution_count": 51,
   "metadata": {},
   "outputs": [
    {
     "name": "stdout",
     "output_type": "stream",
     "text": [
      "{'game1': {'game': 'cricket', 'teams': 2, 'players': 11}, 'game2': {'teams': 10, 'game': 4, 'players': 40}}\n"
     ]
    }
   ],
   "source": [
    "gamedict =\t{\n",
    "  \"game1\": cdict,\n",
    "  \"game2\": bdict\n",
    "}\n",
    "print(gamedict)\n"
   ]
  },
  {
   "cell_type": "code",
   "execution_count": 52,
   "metadata": {},
   "outputs": [
    {
     "name": "stdout",
     "output_type": "stream",
     "text": [
      "{'game': 'cricket', 'teams': 2, 'players': 11}\n",
      "2\n",
      "2\n"
     ]
    }
   ],
   "source": [
    "## Accessing data from cdict\n",
    "\n",
    "print(cdict)\n",
    "print(cdict.get('teams'))\n",
    "print(cdict['teams'])"
   ]
  },
  {
   "cell_type": "code",
   "execution_count": 53,
   "metadata": {},
   "outputs": [
    {
     "name": "stdout",
     "output_type": "stream",
     "text": [
      "game\n",
      "teams\n",
      "players\n",
      "-------- another way -----\n",
      "game\n",
      "teams\n",
      "players\n"
     ]
    }
   ],
   "source": [
    "# Looping through a dictionary\n",
    "\n",
    "#access key names only\n",
    "for x in cdict:\n",
    "    print (x)\n",
    "\n",
    "print(\"-------- another way -----\")\n",
    "\n",
    "for x in cdict.keys():\n",
    "    print (x)\n",
    "\n"
   ]
  },
  {
   "cell_type": "code",
   "execution_count": 54,
   "metadata": {},
   "outputs": [
    {
     "name": "stdout",
     "output_type": "stream",
     "text": [
      "cricket\n",
      "2\n",
      "11\n",
      "-------- another way -----\n",
      "cricket\n",
      "2\n",
      "11\n"
     ]
    }
   ],
   "source": [
    "# Looping through a dictionary\n",
    "\n",
    "#access values only\n",
    "for x in cdict:\n",
    "    print(cdict[x])\n",
    "\n",
    "print(\"-------- another way -----\")\n",
    "\n",
    "for x in cdict.values():\n",
    "    print(x)\n"
   ]
  },
  {
   "cell_type": "code",
   "execution_count": 55,
   "metadata": {},
   "outputs": [
    {
     "name": "stdout",
     "output_type": "stream",
     "text": [
      "game cricket\n",
      "teams 2\n",
      "players 11\n"
     ]
    }
   ],
   "source": [
    "# Looping through a dictionary\n",
    "\n",
    "#access both keys and values\n",
    "for x,y in cdict.items():\n",
    "    print(x,y)\n",
    "\n"
   ]
  },
  {
   "cell_type": "code",
   "execution_count": 56,
   "metadata": {},
   "outputs": [
    {
     "name": "stdout",
     "output_type": "stream",
     "text": [
      "{}\n",
      "{'game': 'cricket', 'teams': 2, 'players': 11}\n"
     ]
    }
   ],
   "source": [
    "## copying a dictionary\n",
    "cdict2=cdict.copy()\n",
    "\n",
    "## removing all elements from a dictionary\n",
    "cdict.clear()\n",
    "print(cdict)\n",
    "print(cdict2)"
   ]
  },
  {
   "cell_type": "code",
   "execution_count": 57,
   "metadata": {},
   "outputs": [
    {
     "data": {
      "text/plain": [
       "{'teams': 2, 'players': 11}"
      ]
     },
     "execution_count": 57,
     "metadata": {},
     "output_type": "execute_result"
    }
   ],
   "source": [
    "## remove a specific key\n",
    "cdict2.pop('game')\n",
    "cdict2"
   ]
  },
  {
   "cell_type": "code",
   "execution_count": 58,
   "metadata": {},
   "outputs": [
    {
     "name": "stdout",
     "output_type": "stream",
     "text": [
      "-------\n",
      " {}\n",
      "-------\n",
      " {'game': 'football'}\n",
      "-------\n",
      " {'game': 'football', 'venue': 'Manchester'}\n",
      "-------\n",
      " {'game': 'football', 'venue': 'Manchester', 'series': 'ODI World Cup'}\n",
      "-------\n",
      " {'game': 'football', 'venue': 'Manchester', 'series': 'ODI World Cup', 'India': 'Blue', 'Australia': 'Yellow'}\n",
      "-------\n",
      " {'game': 'football', 'venue': 'Manchester', 'series': 'ODI World Cup', 'India': 'Blue', 'Australia': 'Yellow', 'overs': 50}\n"
     ]
    }
   ],
   "source": [
    "## updating a dictionary\n",
    "cdict={}\n",
    "print(\"-------\\n\",cdict)\n",
    "\n",
    "cdict['game']='football'\n",
    "print(\"-------\\n\",cdict)\n",
    "\n",
    "# add a new key\n",
    "cdict['venue']='Manchester'\n",
    "print(\"-------\\n\",cdict)\n",
    "\n",
    "# adding key3 \n",
    "cdict.update({'series':'ODI World Cup'}) \n",
    "print(\"-------\\n\",cdict)\n",
    "  \n",
    "# adding elements of another dictionary keys\n",
    "jersey = {'India':'Blue', 'Australia':'Yellow'} \n",
    "cdict.update(jersey) \n",
    "print(\"-------\\n\",cdict)\n",
    "  \n",
    "# by assigning  \n",
    "cdict.update(overs =50) \n",
    "print(\"-------\\n\",cdict)"
   ]
  },
  {
   "cell_type": "code",
   "execution_count": 59,
   "metadata": {},
   "outputs": [
    {
     "name": "stdout",
     "output_type": "stream",
     "text": [
      "6\n",
      "{'game': 'football', 'venue': 'Manchester', 'series': 'ODI World Cup', 'overs': 50}\n"
     ]
    }
   ],
   "source": [
    "## This doesnt make a lot of functional sense\n",
    "print(len(cdict))\n",
    "cdict.pop('India')\n",
    "cdict.pop('Australia')\n",
    "print(cdict)"
   ]
  },
  {
   "cell_type": "code",
   "execution_count": 60,
   "metadata": {},
   "outputs": [
    {
     "name": "stdout",
     "output_type": "stream",
     "text": [
      "-------\n",
      " {'game': 'football', 'venue': 'Manchester', 'series': 'ODI World Cup', 'overs': 50, 'jersey': {'India': 'Blue', 'Australia': 'Yellow'}}\n"
     ]
    }
   ],
   "source": [
    "# adding another collection to a dictionary\n",
    "jersey = {'India':'Blue', 'Australia':'Yellow'}\n",
    "cdict['jersey']=jersey\n",
    "print(\"-------\\n\",cdict)"
   ]
  },
  {
   "cell_type": "code",
   "execution_count": 61,
   "metadata": {},
   "outputs": [
    {
     "ename": "TypeError",
     "evalue": "'set' object does not support indexing",
     "output_type": "error",
     "traceback": [
      "\u001b[0;31m---------------------------------------------------------------------------\u001b[0m",
      "\u001b[0;31mTypeError\u001b[0m                                 Traceback (most recent call last)",
      "\u001b[0;32m<ipython-input-61-2343cd38f30f>\u001b[0m in \u001b[0;36m<module>\u001b[0;34m\u001b[0m\n\u001b[1;32m      1\u001b[0m \u001b[0mst1\u001b[0m\u001b[0;34m=\u001b[0m\u001b[0;34m{\u001b[0m\u001b[0;36m100\u001b[0m\u001b[0;34m,\u001b[0m\u001b[0;36m200\u001b[0m\u001b[0;34m,\u001b[0m\u001b[0;36m300\u001b[0m\u001b[0;34m,\u001b[0m\u001b[0;36m300\u001b[0m\u001b[0;34m}\u001b[0m\u001b[0;34m\u001b[0m\u001b[0;34m\u001b[0m\u001b[0m\n\u001b[0;32m----> 2\u001b[0;31m \u001b[0mst1\u001b[0m\u001b[0;34m[\u001b[0m\u001b[0;36m0\u001b[0m\u001b[0;34m]\u001b[0m\u001b[0;34m\u001b[0m\u001b[0;34m\u001b[0m\u001b[0m\n\u001b[0m",
      "\u001b[0;31mTypeError\u001b[0m: 'set' object does not support indexing"
     ]
    }
   ],
   "source": [
    "st1={100,200,300,300}\n",
    "st1[0]"
   ]
  },
  {
   "cell_type": "code",
   "execution_count": 62,
   "metadata": {},
   "outputs": [
    {
     "name": "stdout",
     "output_type": "stream",
     "text": [
      "{1000, 300, 200}\n"
     ]
    }
   ],
   "source": [
    "st1={1000,200,300,300}\n",
    "print(st1)"
   ]
  },
  {
   "cell_type": "code",
   "execution_count": 63,
   "metadata": {},
   "outputs": [
    {
     "name": "stdout",
     "output_type": "stream",
     "text": [
      "{1000, 300, 200}\n"
     ]
    }
   ],
   "source": [
    "#### notice anything weird here?\n",
    "print(st1)"
   ]
  },
  {
   "cell_type": "code",
   "execution_count": 64,
   "metadata": {},
   "outputs": [
    {
     "data": {
      "text/plain": [
       "False"
      ]
     },
     "execution_count": 64,
     "metadata": {},
     "output_type": "execute_result"
    }
   ],
   "source": [
    "### check presence of an element\n",
    "100 in st1"
   ]
  },
  {
   "cell_type": "code",
   "execution_count": 65,
   "metadata": {},
   "outputs": [
    {
     "name": "stdout",
     "output_type": "stream",
     "text": [
      "intersection: set()\n",
      "union: {700, 100, 1000, 600, 300, 200}\n"
     ]
    }
   ],
   "source": [
    "st2={100,600,700}\n",
    "print(\"intersection:\", st1.intersection(st2))\n",
    "print(\"union:\", st1.union(st2))"
   ]
  },
  {
   "cell_type": "markdown",
   "metadata": {},
   "source": []
  }
 ],
 "metadata": {
  "kernelspec": {
   "display_name": "Python 3",
   "language": "python",
   "name": "python3"
  }
 },
 "nbformat": 4,
 "nbformat_minor": 2
}
